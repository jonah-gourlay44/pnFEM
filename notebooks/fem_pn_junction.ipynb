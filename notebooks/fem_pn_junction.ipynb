{
 "cells": [
  {
   "cell_type": "markdown",
   "metadata": {},
   "source": [
    "# PN Junction Iterative FEM Simulation\n",
    "\n",
    "This notebook gives an overview of the physics that govern PN junctions and offers simulation"
   ]
  },
  {
   "cell_type": "code",
   "execution_count": 424,
   "metadata": {},
   "outputs": [],
   "source": [
    "import matplotlib.pyplot as plt\n",
    "import numpy as np"
   ]
  },
  {
   "cell_type": "markdown",
   "metadata": {},
   "source": [
    "# Mesh Generation"
   ]
  },
  {
   "cell_type": "code",
   "execution_count": 425,
   "metadata": {},
   "outputs": [],
   "source": [
    "# Define mesh size\n",
    "num_edges = 120\n",
    "num_nodes = num_edges + 1\n",
    "L = 0.01 # cm\n",
    "dL = L / num_edges\n",
    "\n",
    "# Array of mesh nodes\n",
    "nodes = np.linspace(0, 2 * L, num_nodes)\n",
    "\n",
    "# Array of mesh edges\n",
    "edges = np.linspace(0, num_edges, num_nodes, dtype=int).repeat(2, axis=0)[1:-1].reshape((-1,2))\n",
    "\n",
    "# Mean x values of edges\n",
    "x_avg = np.mean(nodes[edges], axis=1)"
   ]
  },
  {
   "cell_type": "markdown",
   "metadata": {},
   "source": [
    "# Control Inputs"
   ]
  },
  {
   "cell_type": "code",
   "execution_count": 426,
   "metadata": {},
   "outputs": [],
   "source": [
    "V = 0 # V, applied voltage"
   ]
  },
  {
   "cell_type": "markdown",
   "metadata": {},
   "source": [
    "# Constants\n",
    "\n",
    "These constants are for silicon at 300K.\\\n",
    "References: \n",
    "- https://www.ioffe.ru/SVA/NSM/Semicond/Si/electric.html\n",
    "- https://aip.scitation.org/doi/10.1063/1.1529297#:~:text=The%20commonly%20used%20value%20of,%C3%971010%20cm%E2%88%923."
   ]
  },
  {
   "cell_type": "code",
   "execution_count": 427,
   "metadata": {},
   "outputs": [],
   "source": [
    "n_i = 1e10 # cm^-3, intrinsic carrier concentration\n",
    "phi_t = 21.25 # qV/(kT), S.R.H. recombination trap energy level (0.55 eV) in units of the thermal voltage\n",
    "T = 300 # K, air temperature\n",
    "eps_0 = 8.85e-12 # F/m, vaccuum permittivity\n",
    "eps = 11.68 # silicon relative permittivity\n",
    "k_B = 1.38e-23 # m^2*kg/(s^2*K), Boltzmann constant\n",
    "q = 1.6e-19 # C, electron charge\n",
    "\n",
    "# n-type\n",
    "N_D = 1e6 # n_i, donor concentration \n",
    "N_CD = 1.1e6 # n_i, donor corner doping concentration\n",
    "mu_0n = 1400 # cm^2/(V*s), maximum electron mobility\n",
    "D_0n = 105 # cm^2/s, reference electron diffusion coefficient\n",
    "v_scat_n = 1e7 # cm/s, scatter limited drift velocity of electrons\n",
    "tau_n = 7e-5 # s, excess electron lifetime\n",
    "A_n = 1305 # cm^2/(V*s), factor of maximum electron mobility reduction\n",
    "\n",
    "# p-type\n",
    "N_A = 1e6 # n_i, acceptor concentration\n",
    "N_CA = 1.1e5 # n_i, acceptor corner doping concentration\n",
    "mu_0p = 450 # cm^2/(V*s), maximum hole mobility\n",
    "D_0p = 60 # cm^2/s, reference hole diffusion coefficient\n",
    "v_scat_p = 7e6 # cm/s, scatter limited drift velocity of holes\n",
    "tau_p = 7e-5 # s, excess hole lifetime\n",
    "A_p = 420 # cm^2/(V*s), factor of maximum hole mobility reduction"
   ]
  },
  {
   "cell_type": "markdown",
   "metadata": {},
   "source": [
    "# Convenience Functions"
   ]
  },
  {
   "cell_type": "code",
   "execution_count": 428,
   "metadata": {},
   "outputs": [],
   "source": [
    "'''\n",
    "@brief: Get the ionized impurity concentration for the mesh\n",
    "@param: mesh The mesh containing positional node values\n",
    "@return: np.array The array of doping conentrations\n",
    "'''\n",
    "def Nf(mesh):\n",
    "    \n",
    "    N_vector_func = np.vectorize(lambda x: -N_A if (x < L) else N_D)\n",
    "    \n",
    "    return N_vector_func(mesh)"
   ]
  },
  {
   "cell_type": "markdown",
   "metadata": {},
   "source": [
    "# Define Boundary Conditions\n",
    "\n",
    "### Quasi-Fermi Potentials\n",
    "\n",
    "$\\phi_p(0) = \\phi_n(0) = \\frac{qV}{kT}$ \\\n",
    "$\\phi_p(L) = \\phi_n(L) = 0$"
   ]
  },
  {
   "cell_type": "code",
   "execution_count": 429,
   "metadata": {},
   "outputs": [],
   "source": [
    "phi_p_L = phi_n_L = V # HQFP and EQFP in units of qV/kT\n",
    "phi_p_R = phi_n_R = 0"
   ]
  },
  {
   "cell_type": "markdown",
   "metadata": {},
   "source": [
    "### Electric Potential\n",
    "\n",
    "$\\psi(0) = \\phi_p(0) - \\ln{\\left(\\sqrt{\\left(\\frac{N(0)}{2}\\right)^2 + 1} - \\frac{N(0)}{2}\\right)}$ \\\n",
    "$\\psi(L) = \\phi_p(L) - \\ln{\\left(\\sqrt{\\left(\\frac{N(L)}{2}\\right)^2 + 1} - \\frac{N(L)}{2}\\right)}$"
   ]
  },
  {
   "cell_type": "code",
   "execution_count": 430,
   "metadata": {},
   "outputs": [],
   "source": [
    "psi_L = phi_p_L - np.log(np.sqrt((Nf(0)/2)**2 + 1) - Nf(0)/2)\n",
    "psi_R = phi_p_R - np.log(np.sqrt((Nf(L)/2)**2 + 1) - Nf(L)/2)"
   ]
  },
  {
   "cell_type": "markdown",
   "metadata": {},
   "source": [
    "# Initialize Potentials\n",
    "\n",
    "## Electric Potential\n",
    "\n",
    "Make a guess at the electric potential based on the boundary conditions. A linear approximation should be a reasonable guess\n",
    "\n",
    "$\\psi(x) = \\frac{\\psi(L) - \\psi(0)}{2L}x + \\psi(0)$"
   ]
  },
  {
   "cell_type": "code",
   "execution_count": 431,
   "metadata": {},
   "outputs": [],
   "source": [
    "psi = (psi_R - psi_L)/(2*L)*nodes + psi_L"
   ]
  },
  {
   "cell_type": "markdown",
   "metadata": {},
   "source": [
    "## Quasi-Fermi Potentials\n",
    "\n",
    "Set both vectors to all zero, and initialize them to the same length as the electric potential vector."
   ]
  },
  {
   "cell_type": "code",
   "execution_count": 432,
   "metadata": {},
   "outputs": [],
   "source": [
    "phi_p = phi_n = np.zeros(psi.shape)"
   ]
  },
  {
   "cell_type": "markdown",
   "metadata": {},
   "source": [
    "# Define Equations\n",
    "\n",
    "## General Equations\n",
    "\n",
    "Equations for quantities that are not specific to holes or electrons, and are re-used often in other equations.\n",
    "\n",
    "### Debye length\n",
    "\n",
    "Maximum distance an ion and an electron can be separated in silicon.\n",
    "\n",
    "$L_D = \\sqrt{\\frac{kT\\epsilon}{q^2n_i}}$"
   ]
  },
  {
   "cell_type": "code",
   "execution_count": 450,
   "metadata": {},
   "outputs": [],
   "source": [
    "L_D = np.sqrt(k_B*T*eps*eps_0/(q**2*n_i*100**3)) * 1e2 # Convert n_i to m^-3, L_D to cm"
   ]
  },
  {
   "cell_type": "markdown",
   "metadata": {},
   "source": [
    "### Recombination rate\n",
    "\n",
    "Rate at which minority charge carriers recombine to eliminate space charges.\n",
    "\n",
    "$u(x) = n_i\\frac{e^{\\phi_p(x) - \\phi_n(x)}}{\\tau_p\\left(e^{\\psi(x)-\\phi_n(x)} + e^{\\phi_t}\\right) + \\tau_n\\left(e^{\\phi_p(x) - \\psi(x)} + e^{-\\phi_t}\\right)}$"
   ]
  },
  {
   "cell_type": "code",
   "execution_count": 434,
   "metadata": {},
   "outputs": [],
   "source": [
    "'''\n",
    "@brief: Calculate the recombination rate throughout the mesh\n",
    "@return: np.array An array of recombination rate values in s^-1\n",
    "'''\n",
    "def u():\n",
    "    num = n_i * np.exp(phi_p - phi_n)\n",
    "    den = tau_p * (np.exp(psi - phi_n) + np.exp(phi_t)) + tau_n * (np.exp(phi_p - psi) + np.exp(-phi_t))\n",
    "    \n",
    "    return num / den"
   ]
  },
  {
   "cell_type": "markdown",
   "metadata": {},
   "source": [
    "### Recombination current\n",
    "\n",
    "Current generated by recombination of minority charge carriers in the field free regions\n",
    "\n",
    "$J_r(x) = \\int \\limits_0^x {L_D^2\\frac{u(t)}{D_0n_i}dt}$"
   ]
  },
  {
   "cell_type": "code",
   "execution_count": 435,
   "metadata": {},
   "outputs": [],
   "source": [
    "'''\n",
    "@brief: Calculate the recombination current throughout the mesh\n",
    "@param: mesh The mesh containing positional node values\n",
    "@return: np.array An array of recombination current values expressed in the unit current\n",
    "@details: The function fails if the mesh has size less than 2 to avoid inaccurate integration\n",
    "'''\n",
    "def J_r(mesh):\n",
    "    if mesh.size < 2:\n",
    "        return\n",
    "    \n",
    "    indices = np.linspace(0, mesh.size - 1, mesh.size, dtype=int)\n",
    "    integrand = L_D**2 * u() / (D_0n * n_i) # Use larger reference diffusivity\n",
    "    \n",
    "    J_r_vec = np.vectorize(lambda i : np.trapz(integrand[:i], mesh[:i], mesh[1] - mesh[0]))\n",
    "    \n",
    "    return J_r_vec(indices)"
   ]
  },
  {
   "cell_type": "markdown",
   "metadata": {},
   "source": [
    "### Electric field\n",
    "\n",
    "The electric field is the negative spatial gradient of the electric potential.\n",
    "\n",
    "$E(x) = -\\frac{d\\psi}{dx}$"
   ]
  },
  {
   "cell_type": "code",
   "execution_count": 436,
   "metadata": {},
   "outputs": [],
   "source": [
    "'''\n",
    "@brief: Calculate the electric field throughout the mesh\n",
    "@param: mesh The mesh containing positional node values\n",
    "@return: np.array An array of electric field values in V/cm\n",
    "@details: The function fails if the mesh has size less than 2 to avoid undefined gradients\n",
    "'''\n",
    "def E(mesh):\n",
    "    if mesh.size < 2:\n",
    "        return\n",
    "    \n",
    "    dx = mesh[1] - mesh[0]\n",
    "    return np.gradient(-psi, dx)"
   ]
  },
  {
   "cell_type": "markdown",
   "metadata": {},
   "source": [
    "### Relative reciprocal diffusivity\n",
    "\n",
    "The general formula is: \n",
    "\n",
    "$\\gamma = \\sqrt{1.0 + \\frac{N}{N_C + \\frac{N}{A^2}}} + \\frac{E\\mu_0}{v_{scat}}$ \n",
    "\n",
    "Which can be specified for holes and electrons separately."
   ]
  },
  {
   "cell_type": "code",
   "execution_count": 437,
   "metadata": {},
   "outputs": [],
   "source": [
    "'''\n",
    "@brief: Get the relative reciprocal diffusivity for holes throughout the mesh\n",
    "@param: mesh The mesh containing positional node values\n",
    "@return: np.array The array of relative reciprocal diffusivity values for holes\n",
    "'''\n",
    "def gamma_p(mesh):\n",
    "    return np.sqrt(1.0 + N_A / (N_CA + N_A / A_p**2)) + np.array(E(mesh)) * mu_0p / v_scat_p\n",
    "\n",
    "'''\n",
    "@brief: Get the relative reciprocal diffusivity for electrons throughout the mesh\n",
    "@param: mesh The mesh containing the positional node values\n",
    "@return: np.array The array of relative reciprocal diffusivity values for electrons\n",
    "'''\n",
    "def gamma_n(mesh):\n",
    "    return np.sqrt(1.0 + N_D / (N_CD + N_D / A_n**2)) + np.array(E(mesh)) * mu_0n / v_scat_n"
   ]
  },
  {
   "cell_type": "markdown",
   "metadata": {},
   "source": [
    "## Hole Equations\n",
    "\n",
    "### Hole quasi-Fermi potential\n",
    "\n",
    "$\\phi_p(x) = \\log{\\left[J_{pconst}F_p(x) + e^{\\phi_p(L)}\\right]}$, (neglecting recombination) \\\n",
    "$\\phi_p(x) = \\log{\\left[J_{pconst}F_p(x) - FR_p(x) + e^{\\phi_p(L)}\\right]}$, (including recombination) \\\n",
    "\\\n",
    "$J_{pconst} = \\frac{e^{\\phi_p(0)} - e^{\\phi_p(L)}}{F_p(0)}$, constant part of electron current density (neglecting recombination) \\\n",
    "$J_{pconst} = \\frac{e^{\\phi_p(0)} - e^{\\phi_p(L)} + FR_p(0)}{F_p(0)}$, constant part of electron current density (including recombination) \\\n",
    "$F_p(x) = \\int \\limits_x^L {\\gamma_p(t)e^{\\psi(t)}dt}$ \\\n",
    "$FR_p(x) = \\int \\limits_x^L {J_r(t)\\gamma_p(t)e^{\\psi(t)}dt}$ "
   ]
  },
  {
   "cell_type": "code",
   "execution_count": 438,
   "metadata": {},
   "outputs": [],
   "source": [
    "'''\n",
    "@brief: Calculate the value of the hole quasi-fermi potential throughout the mesh\n",
    "@param: mesh The mesh containing positional node values\n",
    "@param: recomb If True, the effects of recombination will be considered\n",
    "@return: np.array The array of hole quasi-fermi potential values\n",
    "'''\n",
    "def phi_pf(mesh, recomb):\n",
    "    if mesh.size < 2:\n",
    "        return\n",
    "    \n",
    "    indices = np.linspace(0, mesh.size - 1, mesh.size, dtype=int)\n",
    "    dx = mesh[1] - mesh[0]\n",
    "    \n",
    "    # Calculate defined functions F and FR\n",
    "    gamma = gamma_p(mesh)\n",
    "    psi_exp = np.exp(psi)\n",
    "    F_integrand = gamma * psi_exp\n",
    "    F_func = np.vectorize(lambda i: np.trapz(F_integrand[i:], mesh[i:], dx))\n",
    "    F = F_func(indices)\n",
    "    \n",
    "    FR = np.zeros(F.shape)\n",
    "    if recomb:\n",
    "        FR_integrand = J_r(mesh) * gamma * psi_exp\n",
    "        FR_func = np.vectorize(lambda i: np.trapz(FR_integrand[i:], mesh[i:], dx))\n",
    "        FR = FR_func(indices)\n",
    "        \n",
    "    # Calculate constant part of electron current density\n",
    "    J_p_const = (np.exp(phi_p_L) - np.exp(phi_p_R) + FR[0]) / F[0]\n",
    "    \n",
    "    # Calculate phi_p\n",
    "    ret = np.log(J_p_const * F + FR + np.exp(phi_p_R))\n",
    "    \n",
    "    # Normalize\n",
    "    ret[0] = phi_p_L; ret[-1] = phi_p_R\n",
    "    \n",
    "    return ret"
   ]
  },
  {
   "cell_type": "markdown",
   "metadata": {},
   "source": [
    "### Hole concentration\n",
    "\n",
    "$p(x) = e^{\\phi_p(x) - \\psi(x)}$"
   ]
  },
  {
   "cell_type": "code",
   "execution_count": 439,
   "metadata": {},
   "outputs": [],
   "source": [
    "'''\n",
    "@brief: Calculate the value of the hole concentration throughout the mesh\n",
    "@return: np.array The array of hole concentration values\n",
    "'''\n",
    "def pf():\n",
    "    return np.exp(phi_p - psi)"
   ]
  },
  {
   "cell_type": "markdown",
   "metadata": {},
   "source": [
    "\n",
    "\n",
    "## Electron Equations\n",
    "\n",
    "### Electron quasi-Fermi potential\n",
    "\n",
    "$\\phi_n(x) = \\log{\\left[-J_{nconst}F_n(x) + e^{-\\phi_n(L)}\\right]}$, (neglecting recombination) \\\n",
    "$\\phi_n(x) = \\log{\\left[-J_{nconst}F_n(x) - FR_n(x) + e^{-\\phi_n(L)}\\right]}$, (including recombination) \\\n",
    "\\\n",
    "$J_{nconst} = \\frac{e^{-\\phi_n(L)} - e^{-\\phi_n(0)}}{F_n(0)}$, constant part of hole current density (neglecting recombination) \\\n",
    "$J_{nconst} = \\frac{e^{-\\phi_n(L)} - e^{-\\phi_n(0)} - FR_n(0)}{F_n(0)}$, constant part of hole current density (including recombination) \\\n",
    "$F_n(x) = \\int \\limits_x^L {\\gamma_n(t)e^{-\\psi(t)}dt}$ \\\n",
    "$FR_n(x) = \\int \\limits_x^L {J_r(t)\\gamma_n(t)e^{-\\psi(t)}dt}$ "
   ]
  },
  {
   "cell_type": "code",
   "execution_count": 440,
   "metadata": {},
   "outputs": [],
   "source": [
    "'''\n",
    "@brief: Calculate the value of the electron quasi-Fermi potential throughout the mesh\n",
    "@param: mesh The mesh containing positional node values\n",
    "@param: recomb If True, the effects of recombination will be considered\n",
    "@return: np.array The array of electron quasi-Fermi potential values\n",
    "'''\n",
    "def phi_nf(mesh, recomb):\n",
    "    if mesh.size < 2:\n",
    "        return\n",
    "    \n",
    "    indices = np.linspace(0, mesh.size - 1, mesh.size, dtype=int)\n",
    "    dx = mesh[1] - mesh[0]\n",
    "    \n",
    "    # Calculate defined functions F and FR\n",
    "    gamma = gamma_n(mesh)\n",
    "    psi_exp = np.exp(-psi)\n",
    "    F_integrand = gamma * psi_exp\n",
    "    F_func = np.vectorize(lambda i: np.trapz(F_integrand[i:], mesh[i:], dx))\n",
    "    F = F_func(indices)\n",
    "    \n",
    "    FR = np.zeros(F.shape)\n",
    "    if recomb:\n",
    "        FR_integrand = J_r(mesh) * gamma * psi_exp\n",
    "        FR_func = np.vectorize(lambda i: np.trapz(FR_integrand[i:], mesh[i:], dx))\n",
    "        FR = FR_func(indices)\n",
    "        \n",
    "    # Calculate constant part of electron current density\n",
    "    J_n_const = (np.exp(-phi_n_L) - np.exp(-phi_n_R) - FR[0]) / F[0]\n",
    "    \n",
    "    # Calculate phi_n\n",
    "    ret = np.log(-J_n_const * F - FR + np.exp(-phi_n_R))\n",
    "    \n",
    "    # Normalize\n",
    "    ret[0] = phi_n_L; ret[-1] = phi_n_R\n",
    "    \n",
    "    return ret"
   ]
  },
  {
   "cell_type": "markdown",
   "metadata": {},
   "source": [
    "### Electron concentration\n",
    "\n",
    "$n(x) = e^{\\phi_n(x) - \\psi(x)}$"
   ]
  },
  {
   "cell_type": "code",
   "execution_count": 441,
   "metadata": {},
   "outputs": [],
   "source": [
    "'''\n",
    "@brief: Calculate the value of the electron concentration throughout the mesh\n",
    "@return: np.array The array of electron concentration values\n",
    "'''\n",
    "def nf():\n",
    "    return np.exp(phi_n - psi)"
   ]
  },
  {
   "cell_type": "markdown",
   "metadata": {},
   "source": [
    "# Gummel Iteration\n",
    "\n",
    "## Compute initial quantities neglecting recombination\n",
    "\n",
    "Initially we do not have a guess for the EQFP or HQFP, which the recombination current density $J_r$ depends on."
   ]
  },
  {
   "cell_type": "code",
   "execution_count": 442,
   "metadata": {},
   "outputs": [],
   "source": [
    "N = Nf(x_avg)\n",
    "\n",
    "phi_n = phi_nf(nodes, recomb=False)\n",
    "phi_p = phi_pf(nodes, recomb=False)\n",
    "\n",
    "n = nf()\n",
    "p = pf()"
   ]
  },
  {
   "cell_type": "markdown",
   "metadata": {},
   "source": [
    "## Define functions to compute matrix elements"
   ]
  },
  {
   "cell_type": "code",
   "execution_count": 443,
   "metadata": {},
   "outputs": [],
   "source": [
    "'''\n",
    "@brief Compute block of NxN matrix A\n",
    "@return np.array matrix of values\n",
    "'''\n",
    "def dNi_dNj():\n",
    "    a = np.zeros((2,2))\n",
    "    a[0] = 1 / dL * np.array([1,-1])\n",
    "    a[1] = 1 / dL * np.array([-1,1])\n",
    "    \n",
    "    return a\n",
    "\n",
    "'''\n",
    "@brief Compute segment of Nx1 array b\n",
    "@return np.array array of values\n",
    "'''\n",
    "def Ni():\n",
    "    return dL / 2 * np.array([1,1])"
   ]
  },
  {
   "cell_type": "markdown",
   "metadata": {},
   "source": [
    "## Define iteration function"
   ]
  },
  {
   "cell_type": "code",
   "execution_count": 448,
   "metadata": {},
   "outputs": [],
   "source": [
    "'''\n",
    "@brief: Iteration step, will compute new values for psi throughout the mesh\n",
    "@param: mesh The mesh edges to operate on\n",
    "@param: alpha psi = (1-alpha)*psi + alpha*psi_new, where alpha < 1\n",
    "@return: np.array The array of potential values\n",
    "'''\n",
    "def iterate(mesh, alpha):\n",
    "    \n",
    "    A = np.zeros((num_nodes, num_nodes))\n",
    "    b = np.zeros((num_nodes, 1))\n",
    "    \n",
    "    for i in range(0, num_edges):\n",
    "        nds = mesh[i]\n",
    "        \n",
    "        a = dNi_dNj() * np.trapz(N[i] + p[nds] - n[nds], dx=dL)\n",
    "        b0 = Ni()\n",
    "        \n",
    "        A[np.ix_(nds, nds)] += a\n",
    "        b[nds] += b0.reshape((2,1))\n",
    "    \n",
    "    # Enforce boundary conditions\n",
    "    A[0][0] = 1; A[0][1:] = 0\n",
    "    A[-1][-1] = 1; A[-1][:-1] = 0\n",
    "    \n",
    "    b[0] = psi_L; b[1] = psi_R\n",
    "    \n",
    "    psi_new = np.linalg.solve(A, b).reshape(psi.shape)\n",
    "    \n",
    "    return (1 - alpha) * psi + alpha * psi_new"
   ]
  },
  {
   "cell_type": "markdown",
   "metadata": {},
   "source": [
    "# Iterate\n",
    "\n",
    "The iteration should run until the solution converges. Convergence is defined by an update threshold which is given by the mean error between points in the potential vector."
   ]
  },
  {
   "cell_type": "code",
   "execution_count": 447,
   "metadata": {},
   "outputs": [
    {
     "name": "stdout",
     "output_type": "stream",
     "text": [
      "[-2.97773022e+01  3.25626865e+13  6.51253730e+13  9.76880595e+13\n",
      "  1.30250746e+14  1.62813432e+14  1.95376119e+14  2.27938805e+14\n",
      "  2.60501492e+14  2.93064178e+14  3.25626865e+14  3.58189551e+14\n",
      "  3.90752238e+14  4.23314924e+14  4.55877611e+14  4.88440297e+14\n",
      "  5.21002984e+14  5.53565670e+14  5.86128357e+14  6.18691043e+14\n",
      "  6.51253730e+14  6.83816416e+14  7.16379103e+14  7.48941789e+14\n",
      "  7.81504476e+14  8.14067162e+14  8.46629849e+14  8.79192535e+14\n",
      "  9.11755222e+14  9.44317908e+14  9.76880595e+14  1.00944328e+15\n",
      "  1.04200597e+15  1.07456865e+15  1.10713134e+15  1.13969403e+15\n",
      "  1.17225671e+15  1.20481940e+15  1.23738209e+15  1.26994477e+15\n",
      "  1.30250746e+15  1.33507015e+15  1.36763283e+15  1.40019552e+15\n",
      "  1.43275821e+15  1.46532089e+15  1.49788358e+15  1.53044627e+15\n",
      "  1.56300895e+15  1.59557164e+15  1.62813432e+15  1.66069701e+15\n",
      "  1.69325970e+15  1.72582238e+15  1.75838507e+15  1.79094776e+15\n",
      "  1.82351044e+15  1.85607313e+15  1.88863582e+15  1.92119850e+15\n",
      "  1.95376119e+15  1.92119850e+15  1.88863582e+15  1.85607313e+15\n",
      "  1.82351044e+15  1.79094776e+15  1.75838507e+15  1.72582238e+15\n",
      "  1.69325970e+15  1.66069701e+15  1.62813432e+15  1.59557164e+15\n",
      "  1.56300895e+15  1.53044627e+15  1.49788358e+15  1.46532089e+15\n",
      "  1.43275821e+15  1.40019552e+15  1.36763283e+15  1.33507015e+15\n",
      "  1.30250746e+15  1.26994477e+15  1.23738209e+15  1.20481940e+15\n",
      "  1.17225671e+15  1.13969403e+15  1.10713134e+15  1.07456865e+15\n",
      "  1.04200597e+15  1.00944328e+15  9.76880595e+14  9.44317908e+14\n",
      "  9.11755222e+14  8.79192535e+14  8.46629849e+14  8.14067162e+14\n",
      "  7.81504476e+14  7.48941789e+14  7.16379103e+14  6.83816416e+14\n",
      "  6.51253730e+14  6.18691043e+14  5.86128357e+14  5.53565670e+14\n",
      "  5.21002984e+14  4.88440297e+14  4.55877611e+14  4.23314924e+14\n",
      "  3.90752238e+14  3.58189551e+14  3.25626865e+14  2.93064178e+14\n",
      "  2.60501492e+14  2.27938805e+14  1.95376119e+14  1.62813432e+14\n",
      "  1.30250746e+14  9.76880595e+13  6.51253730e+13  3.25626865e+13\n",
      "  9.67090623e+00]\n",
      "(121,)\n",
      "[nan nan nan nan nan nan nan nan nan nan nan nan nan nan nan nan nan nan\n",
      " nan nan nan nan nan nan nan nan nan nan nan nan nan nan nan nan nan nan\n",
      " nan nan nan nan nan nan nan nan nan nan nan nan nan nan nan nan nan nan\n",
      " nan nan nan nan nan nan nan nan nan nan nan nan nan nan nan nan nan nan\n",
      " nan nan nan nan nan nan nan nan nan nan nan nan nan nan nan nan nan nan\n",
      " nan nan nan nan nan nan nan nan nan nan nan nan nan nan nan nan nan nan\n",
      " nan nan nan nan nan nan nan nan nan nan nan nan nan]\n",
      "(121,)\n",
      "[nan nan nan nan nan nan nan nan nan nan nan nan nan nan nan nan nan nan\n",
      " nan nan nan nan nan nan nan nan nan nan nan nan nan nan nan nan nan nan\n",
      " nan nan nan nan nan nan nan nan nan nan nan nan nan nan nan nan nan nan\n",
      " nan nan nan nan nan nan nan nan nan nan nan nan nan nan nan nan nan nan\n",
      " nan nan nan nan nan nan nan nan nan nan nan nan nan nan nan nan nan nan\n",
      " nan nan nan nan nan nan nan nan nan nan nan nan nan nan nan nan nan nan\n",
      " nan nan nan nan nan nan nan nan nan nan nan nan nan]\n",
      "(121,)\n"
     ]
    },
    {
     "name": "stderr",
     "output_type": "stream",
     "text": [
      "/tmp/ipykernel_169427/2725229702.py:7: RuntimeWarning: overflow encountered in exp\n",
      "  den = tau_p * (np.exp(psi - phi_n) + np.exp(phi_t)) + tau_n * (np.exp(phi_p - psi) + np.exp(-phi_t))\n",
      "/tmp/ipykernel_169427/347702451.py:16: RuntimeWarning: overflow encountered in exp\n",
      "  psi_exp = np.exp(psi)\n",
      "/home/ubuntu/.local/lib/python3.8/site-packages/numpy/lib/function_base.py:4878: RuntimeWarning: invalid value encountered in add\n",
      "  ret = (d * (y[tuple(slice1)] + y[tuple(slice2)]) / 2.0).sum(axis)\n",
      "/home/ubuntu/.local/lib/python3.8/site-packages/numpy/core/_methods.py:49: RuntimeWarning: invalid value encountered in reduce\n",
      "  return umr_sum(a, axis, dtype, out, keepdims, initial, where)\n",
      "/tmp/ipykernel_169427/347702451.py:23: RuntimeWarning: invalid value encountered in multiply\n",
      "  FR_integrand = J_r(mesh) * gamma * psi_exp\n"
     ]
    }
   ],
   "source": [
    "thresh = 1e-2\n",
    "alpha = 0.3\n",
    "mean_error = 1\n",
    "\n",
    "while (mean_error > thresh):\n",
    "    \n",
    "    # Calculate new value for psi\n",
    "    psi_update = iterate(edges, alpha)\n",
    "    \n",
    "    print(psi_update.shape)\n",
    "    \n",
    "    # Update the mean error\n",
    "    mean_error = np.mean(np.abs(psi - psi_new))\n",
    "    \n",
    "    # Update psi\n",
    "    psi = psi_update\n",
    "    \n",
    "    # Recalculate the EQFP and HQFP accounting for recombination\n",
    "    phi_n = phi_nf(nodes, recomb=True)\n",
    "    phi_p = phi_pf(nodes, recomb=True)\n",
    "    \n",
    "    # Recalculate the hole and electron concentrations\n",
    "    p = pf()\n",
    "    n = nf()"
   ]
  }
 ],
 "metadata": {
  "kernelspec": {
   "display_name": "Python 3 (ipykernel)",
   "language": "python",
   "name": "python3"
  },
  "language_info": {
   "codemirror_mode": {
    "name": "ipython",
    "version": 3
   },
   "file_extension": ".py",
   "mimetype": "text/x-python",
   "name": "python",
   "nbconvert_exporter": "python",
   "pygments_lexer": "ipython3",
   "version": "3.8.10"
  }
 },
 "nbformat": 4,
 "nbformat_minor": 4
}
