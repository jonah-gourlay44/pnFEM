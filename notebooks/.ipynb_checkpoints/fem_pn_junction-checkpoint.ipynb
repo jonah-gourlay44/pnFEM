{
 "cells": [
  {
   "cell_type": "code",
   "execution_count": 1,
   "metadata": {},
   "outputs": [],
   "source": [
    "import matplotlib.pyplot as plt\n",
    "import numpy as np"
   ]
  },
  {
   "cell_type": "markdown",
   "metadata": {},
   "source": [
    "# Mesh Generation"
   ]
  },
  {
   "cell_type": "code",
   "execution_count": 3,
   "metadata": {},
   "outputs": [],
   "source": [
    "# Define mesh size\n",
    "num_edges = 120\n",
    "num_nodes = num_edges + 1\n",
    "L = 0.01 # cm\n",
    "\n",
    "# Array of mesh nodes\n",
    "nodes = np.linspace(0, 2 * L, num_nodes)\n",
    "\n",
    "# Array of mesh edges\n",
    "edges = np.linspace(0, num_edges, num_nodes, dtype=int).repeat(2, axis=0)[1:-1].reshape((-1,2))\n",
    "\n",
    "# Mean x values of edges\n",
    "x_avg = np.mean(nodes[edges], axis=1)"
   ]
  },
  {
   "cell_type": "markdown",
   "metadata": {},
   "source": [
    "# Control Inputs"
   ]
  },
  {
   "cell_type": "code",
   "execution_count": 4,
   "metadata": {},
   "outputs": [],
   "source": [
    "V = 0 # V, applied voltage"
   ]
  },
  {
   "cell_type": "markdown",
   "metadata": {},
   "source": [
    "# Constants\n",
    "\n",
    "These constants are for silicon at 300K.\\\n",
    "References: \n",
    "- https://www.ioffe.ru/SVA/NSM/Semicond/Si/electric.html\n",
    "- https://aip.scitation.org/doi/10.1063/1.1529297#:~:text=The%20commonly%20used%20value%20of,%C3%971010%20cm%E2%88%923."
   ]
  },
  {
   "cell_type": "code",
   "execution_count": 5,
   "metadata": {},
   "outputs": [],
   "source": [
    "n_i = 1e10 # cm^-3, intrinsic carrier concentration\n",
    "# TODO: need data on SRH trap level\n",
    "\n",
    "# n-type\n",
    "N_D = 1e16 # cm^-3, donor concentration \n",
    "N_CD = 1.1e16 # cm^-3, donor corner doping concentration\n",
    "mu_0n = 1400 # cm^2/(V*s), maximum electron mobility\n",
    "D_0n = 105 # cm^2/s, reference electron diffusion coefficient\n",
    "v_scat_n = 1e7 # cm/s, scatter limited drift velocity of electrons\n",
    "tau_n = 7e-5 # s, excess electron lifetime\n",
    "A_n = 1305 # cm^2/(V*s), factor of maximum electron mobility reduction\n",
    "\n",
    "# p-type\n",
    "N_A = 1e16 # cm^-3, acceptor concentration\n",
    "N_CA = 1.1e15 # cm^-3, acceptor corner doping concentration\n",
    "mu_0p = 450 # cm^2/(V*s), maximum hole mobility\n",
    "D_0p = 60 # cm^2/s, reference hole diffusion coefficient\n",
    "v_scat_p = 7e6 # cm/s, scatter limited drift velocity of holes\n",
    "tau_p = 7e-5 # s, excess hole lifetime\n",
    "A_p = 420 # cm^2/(V*s), factor of maximum hole mobility reduction"
   ]
  },
  {
   "cell_type": "markdown",
   "metadata": {},
   "source": [
    "# Make Guess at $\\psi$\n"
   ]
  }
 ],
 "metadata": {
  "kernelspec": {
   "display_name": "Python 3 (ipykernel)",
   "language": "python",
   "name": "python3"
  },
  "language_info": {
   "codemirror_mode": {
    "name": "ipython",
    "version": 3
   },
   "file_extension": ".py",
   "mimetype": "text/x-python",
   "name": "python",
   "nbconvert_exporter": "python",
   "pygments_lexer": "ipython3",
   "version": "3.8.10"
  }
 },
 "nbformat": 4,
 "nbformat_minor": 4
}
